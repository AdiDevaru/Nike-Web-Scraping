{
  "nbformat": 4,
  "nbformat_minor": 0,
  "metadata": {
    "colab": {
      "provenance": [],
      "authorship_tag": "ABX9TyO2vKVU6yjxtcqRhAjw/nQA",
      "include_colab_link": true
    },
    "kernelspec": {
      "name": "python3",
      "display_name": "Python 3"
    },
    "language_info": {
      "name": "python"
    }
  },
  "cells": [
    {
      "cell_type": "markdown",
      "metadata": {
        "id": "view-in-github",
        "colab_type": "text"
      },
      "source": [
        "<a href=\"https://colab.research.google.com/github/AdiDevaru/Nike-Web-Scraping/blob/main/Web_Scraping.ipynb\" target=\"_parent\"><img src=\"https://colab.research.google.com/assets/colab-badge.svg\" alt=\"Open In Colab\"/></a>"
      ]
    },
    {
      "cell_type": "code",
      "source": [
        "pip install selenium"
      ],
      "metadata": {
        "colab": {
          "base_uri": "https://localhost:8080/"
        },
        "id": "p0BiZpi4oBha",
        "outputId": "a67761aa-3d6e-497a-822e-f2f24826af78",
        "collapsed": true
      },
      "execution_count": 23,
      "outputs": [
        {
          "output_type": "stream",
          "name": "stdout",
          "text": [
            "Requirement already satisfied: selenium in /usr/local/lib/python3.10/dist-packages (4.25.0)\n",
            "Requirement already satisfied: urllib3<3,>=1.26 in /usr/local/lib/python3.10/dist-packages (from urllib3[socks]<3,>=1.26->selenium) (2.0.7)\n",
            "Requirement already satisfied: trio~=0.17 in /usr/local/lib/python3.10/dist-packages (from selenium) (0.26.2)\n",
            "Requirement already satisfied: trio-websocket~=0.9 in /usr/local/lib/python3.10/dist-packages (from selenium) (0.11.1)\n",
            "Requirement already satisfied: certifi>=2021.10.8 in /usr/local/lib/python3.10/dist-packages (from selenium) (2024.8.30)\n",
            "Requirement already satisfied: typing_extensions~=4.9 in /usr/local/lib/python3.10/dist-packages (from selenium) (4.12.2)\n",
            "Requirement already satisfied: websocket-client~=1.8 in /usr/local/lib/python3.10/dist-packages (from selenium) (1.8.0)\n",
            "Requirement already satisfied: attrs>=23.2.0 in /usr/local/lib/python3.10/dist-packages (from trio~=0.17->selenium) (24.2.0)\n",
            "Requirement already satisfied: sortedcontainers in /usr/local/lib/python3.10/dist-packages (from trio~=0.17->selenium) (2.4.0)\n",
            "Requirement already satisfied: idna in /usr/local/lib/python3.10/dist-packages (from trio~=0.17->selenium) (3.10)\n",
            "Requirement already satisfied: outcome in /usr/local/lib/python3.10/dist-packages (from trio~=0.17->selenium) (1.3.0.post0)\n",
            "Requirement already satisfied: sniffio>=1.3.0 in /usr/local/lib/python3.10/dist-packages (from trio~=0.17->selenium) (1.3.1)\n",
            "Requirement already satisfied: exceptiongroup in /usr/local/lib/python3.10/dist-packages (from trio~=0.17->selenium) (1.2.2)\n",
            "Requirement already satisfied: wsproto>=0.14 in /usr/local/lib/python3.10/dist-packages (from trio-websocket~=0.9->selenium) (1.2.0)\n",
            "Requirement already satisfied: pysocks!=1.5.7,<2.0,>=1.5.6 in /usr/local/lib/python3.10/dist-packages (from urllib3[socks]<3,>=1.26->selenium) (1.7.1)\n",
            "Requirement already satisfied: h11<1,>=0.9.0 in /usr/local/lib/python3.10/dist-packages (from wsproto>=0.14->trio-websocket~=0.9->selenium) (0.14.0)\n"
          ]
        }
      ]
    },
    {
      "cell_type": "code",
      "source": [
        "pip install XlsxWriter"
      ],
      "metadata": {
        "colab": {
          "base_uri": "https://localhost:8080/"
        },
        "id": "2eNt7irWoaYV",
        "outputId": "2cb6918f-feab-4b0d-aea0-2f8e5935f5f8",
        "collapsed": true
      },
      "execution_count": 24,
      "outputs": [
        {
          "output_type": "stream",
          "name": "stdout",
          "text": [
            "Requirement already satisfied: XlsxWriter in /usr/local/lib/python3.10/dist-packages (3.2.0)\n"
          ]
        }
      ]
    },
    {
      "cell_type": "code",
      "source": [
        "pip install beautifulsoup4"
      ],
      "metadata": {
        "colab": {
          "base_uri": "https://localhost:8080/"
        },
        "id": "7swe13CkpqGw",
        "outputId": "92eabfd1-e7ea-45bc-9ad9-e3ba0274ff49",
        "collapsed": true
      },
      "execution_count": 25,
      "outputs": [
        {
          "output_type": "stream",
          "name": "stdout",
          "text": [
            "Requirement already satisfied: beautifulsoup4 in /usr/local/lib/python3.10/dist-packages (4.12.3)\n",
            "Requirement already satisfied: soupsieve>1.2 in /usr/local/lib/python3.10/dist-packages (from beautifulsoup4) (2.6)\n"
          ]
        }
      ]
    },
    {
      "cell_type": "code",
      "source": [
        "from bs4 import BeautifulSoup\n",
        "import requests\n",
        "import pandas as pd\n",
        "import numpy as np"
      ],
      "metadata": {
        "id": "IXj-u2hVxxa1"
      },
      "execution_count": 1,
      "outputs": []
    },
    {
      "cell_type": "code",
      "source": [
        "URL = \"https://www.nike.com/in/w?q=Air%20Force%20&vst=Air%20Force%20\""
      ],
      "metadata": {
        "id": "bCLTE-9tyBu-"
      },
      "execution_count": 37,
      "outputs": []
    },
    {
      "cell_type": "code",
      "source": [
        "HEADERS = ({'User-Agent': 'Mozilla/5.0 (Windows NT 10.0; Win64; x64) AppleWebKit/537.36 (KHTML, like Gecko) Chrome/129.0.0.0 Safari/537.36', 'Accept-Language': 'en-US, en;q=0.5'})"
      ],
      "metadata": {
        "id": "MFipV7NPyNZL"
      },
      "execution_count": 3,
      "outputs": []
    },
    {
      "cell_type": "code",
      "source": [
        "webpage = requests.get(URL, headers=HEADERS)\n",
        "# webpage"
      ],
      "metadata": {
        "colab": {
          "base_uri": "https://localhost:8080/"
        },
        "id": "j3CqUwJSyv_d",
        "outputId": "1f1dbb0f-9eaf-44da-9546-f356e6f60232"
      },
      "execution_count": 38,
      "outputs": [
        {
          "output_type": "execute_result",
          "data": {
            "text/plain": [
              "<Response [200]>"
            ]
          },
          "metadata": {},
          "execution_count": 38
        }
      ]
    },
    {
      "cell_type": "code",
      "source": [
        "soup = BeautifulSoup(webpage.content, \"html.parser\")"
      ],
      "metadata": {
        "id": "-7qnNqhpy2Jj"
      },
      "execution_count": 39,
      "outputs": []
    },
    {
      "cell_type": "code",
      "source": [
        "links = soup.find_all(\"a\", attrs={'class': 'product-card__link-overlay'})\n",
        "# links"
      ],
      "metadata": {
        "colab": {
          "base_uri": "https://localhost:8080/"
        },
        "collapsed": true,
        "id": "vvUTiIFl7nRt",
        "outputId": "15075b64-4a93-4ff1-8fdc-68c9e402e82a"
      },
      "execution_count": 47,
      "outputs": [
        {
          "output_type": "execute_result",
          "data": {
            "text/plain": [
              "[<a class=\"product-card__link-overlay\" data-testid=\"product-card__link-overlay\" href=\"https://www.nike.com/in/t/air-force-1-07-shoes-WrLlWX/CW2288-111\" tabindex=\"-1\">Nike Air Force 1 '07</a>,\n",
              " <a class=\"product-card__link-overlay\" data-testid=\"product-card__link-overlay\" href=\"https://www.nike.com/in/t/air-force-1-07-easyon-shoes-lpjTWM/DX5883-100\" tabindex=\"-1\">Nike Air Force 1 '07 EasyOn</a>,\n",
              " <a class=\"product-card__link-overlay\" data-testid=\"product-card__link-overlay\" href=\"https://www.nike.com/in/t/air-force-1-07-lv8-shoes-F58w8r/FQ8714-001\" tabindex=\"-1\">Nike Air Force 1 '07 LV8</a>,\n",
              " <a class=\"product-card__link-overlay\" data-testid=\"product-card__link-overlay\" href=\"https://www.nike.com/in/t/air-force-1-07-shoes-b0f549/HF4263-133\" tabindex=\"-1\">Nike Air Force 1 '07</a>,\n",
              " <a class=\"product-card__link-overlay\" data-testid=\"product-card__link-overlay\" href=\"https://www.nike.com/in/t/air-force-1-07-lv8-shoes-2gP9Bc/FN8349-100\" tabindex=\"-1\">Nike Air Force 1 '07 LV8</a>,\n",
              " <a class=\"product-card__link-overlay\" data-testid=\"product-card__link-overlay\" href=\"https://www.nike.com/in/t/air-force-1-low-evo-shoes-QcbnHZ/HF3630-101\" tabindex=\"-1\">Nike Air Force 1 Low EVO</a>,\n",
              " <a class=\"product-card__link-overlay\" data-testid=\"product-card__link-overlay\" href=\"https://www.nike.com/in/t/air-force-1-07-lx-shoes-SGsVWx/DZ2708-002\" tabindex=\"-1\">Nike Air Force 1 '07 LX</a>,\n",
              " <a class=\"product-card__link-overlay\" data-testid=\"product-card__link-overlay\" href=\"https://www.nike.com/in/t/air-force-1-07-fresh-shoes-bBRnbq/DM0211-100\" tabindex=\"-1\">Nike Air Force 1 '07 Fresh</a>,\n",
              " <a class=\"product-card__link-overlay\" data-testid=\"product-card__link-overlay\" href=\"https://www.nike.com/in/t/air-force-1-07-lv8-shoes-chrS2D/HF1939-100\" tabindex=\"-1\">Nike Air Force 1 '07 LV8</a>,\n",
              " <a class=\"product-card__link-overlay\" data-testid=\"product-card__link-overlay\" href=\"https://www.nike.com/in/t/air-force-1-07-lv8-shoes-RR3nh3/FQ8713-200\" tabindex=\"-1\">Nike Air Force 1 '07 LV8</a>,\n",
              " <a class=\"product-card__link-overlay\" data-testid=\"product-card__link-overlay\" href=\"https://www.nike.com/in/t/air-force-1-07-lv8-shoes-g2c8Rd/HF1937-100\" tabindex=\"-1\">Nike Air Force 1 '07 LV8</a>,\n",
              " <a class=\"product-card__link-overlay\" data-testid=\"product-card__link-overlay\" href=\"https://www.nike.com/in/t/air-force-1-07-lv8-shoes-fJ2txz/FJ4160-001\" tabindex=\"-1\">Nike Air Force 1 '07 LV8</a>,\n",
              " <a class=\"product-card__link-overlay\" data-testid=\"product-card__link-overlay\" href=\"https://www.nike.com/in/t/air-force-1-sp-shoes-T3G0Sg/HF8189-001\" tabindex=\"-1\">Nike Air Force 1 SP</a>,\n",
              " <a class=\"product-card__link-overlay\" data-testid=\"product-card__link-overlay\" href=\"https://www.nike.com/in/t/air-force-1-07-shoes-VWCc04/DV0788-001\" tabindex=\"-1\">Nike Air Force 1 '07</a>,\n",
              " <a class=\"product-card__link-overlay\" data-testid=\"product-card__link-overlay\" href=\"https://www.nike.com/in/t/air-force-1-low-shoes-9jMtkm/FZ4167-200\" tabindex=\"-1\">Nike Air Force 1 Low</a>,\n",
              " <a class=\"product-card__link-overlay\" data-testid=\"product-card__link-overlay\" href=\"https://www.nike.com/in/t/air-force-1-shadow-shoes-DmvLlC/HF5064-100\" tabindex=\"-1\">Nike Air Force 1 Shadow</a>,\n",
              " <a class=\"product-card__link-overlay\" data-testid=\"product-card__link-overlay\" href=\"https://www.nike.com/in/t/air-force-1-low-retro-shoe-m3fmLD/AO1635-100\" tabindex=\"-1\">Nike Air Force 1 Low Retro Premium</a>,\n",
              " <a class=\"product-card__link-overlay\" data-testid=\"product-card__link-overlay\" href=\"https://www.nike.com/in/t/air-force-1-07-shoes-7d5sHw/HF4298-100\" tabindex=\"-1\">Nike Air Force 1 '07</a>,\n",
              " <a class=\"product-card__link-overlay\" data-testid=\"product-card__link-overlay\" href=\"https://www.nike.com/in/t/air-force-1-07-shoes-0XGfD7/FJ4146-102\" tabindex=\"-1\">Nike Air Force 1 '07</a>,\n",
              " <a class=\"product-card__link-overlay\" data-testid=\"product-card__link-overlay\" href=\"https://www.nike.com/in/t/air-force-1-07-next-nature-shoes-tzdfJn/HF5385-400\" tabindex=\"-1\">Nike Air Force 1 '07 Next Nature</a>,\n",
              " <a class=\"product-card__link-overlay\" data-testid=\"product-card__link-overlay\" href=\"https://www.nike.com/in/launch/r/CZ8065-100\" tabindex=\"-1\">NOCTA Air Force 1 Low</a>,\n",
              " <a class=\"product-card__link-overlay\" data-testid=\"product-card__link-overlay\" href=\"https://www.nike.com/in/t/air-force-1-07-shoes-7hqhpl/HF3836-100\" tabindex=\"-1\">Nike Air Force 1 '07</a>,\n",
              " <a class=\"product-card__link-overlay\" data-testid=\"product-card__link-overlay\" href=\"https://www.nike.com/in/t/air-force-1-07-shoe-HWWX9W/CT2302-100\" tabindex=\"-1\">Nike Air Force 1 '07</a>,\n",
              " <a class=\"product-card__link-overlay\" data-testid=\"product-card__link-overlay\" href=\"https://www.nike.com/in/t/air-force-1-07-next-nature-shoes-rK46Z5/HQ3905-200\" tabindex=\"-1\">Nike Air Force 1 '07 Next Nature</a>]"
            ]
          },
          "metadata": {},
          "execution_count": 47
        }
      ]
    },
    {
      "cell_type": "code",
      "source": [
        "links_list = [link.get('href') for link in links]"
      ],
      "metadata": {
        "collapsed": true,
        "id": "rn_Ln3Z0-cbp"
      },
      "execution_count": 64,
      "outputs": []
    },
    {
      "cell_type": "code",
      "source": [
        "contents_dict = {\"title\":[], \"price\":[], \"description\":[]}"
      ],
      "metadata": {
        "id": "jkNrlRJcEB5U"
      },
      "execution_count": 59,
      "outputs": []
    },
    {
      "cell_type": "code",
      "source": [
        "def get_title(soup):\n",
        "    try:\n",
        "        title = soup.find(\"h1\", attrs={'class': 'nds-text css-1h3ryhm e1yhcai00 text-align-start appearance-title4 color-primary weight-regular'}).text.strip()\n",
        "    except AttributeError:\n",
        "        title = \"\"\n",
        "    return title\n",
        "\n",
        "def get_price(soup):\n",
        "    try:\n",
        "        price = soup.find(\"span\", attrs={'class': 'nds-text mr2-sm css-tbgmka e1yhcai00 text-align-start appearance-body1Strong color-primary display-inline weight-regular'}).text.strip()\n",
        "        price = price.replace(\"MRP : \", \"\")\n",
        "    except AttributeError:\n",
        "        price = \"\"\n",
        "    return price\n",
        "\n",
        "def get_description(soup):\n",
        "    try:\n",
        "        description = soup.find(\"p\", attrs={'class': 'nds-text css-pxxozx e1yhcai00 text-align-start appearance-body1 color-primary weight-regular'}).text.strip()\n",
        "    except AttributeError:\n",
        "        description = \"\"\n",
        "    return description\n"
      ],
      "metadata": {
        "id": "VBNoh7S6FWs1"
      },
      "execution_count": 77,
      "outputs": []
    },
    {
      "cell_type": "code",
      "source": [
        "for link in links_list:\n",
        "    new_webpage = requests.get(link, headers=HEADERS)\n",
        "    new_soup = BeautifulSoup(new_webpage.content, \"html.parser\")\n",
        "\n",
        "    contents_dict['title'].append(get_title(new_soup))\n",
        "    contents_dict['price'].append(get_price(new_soup))\n",
        "    contents_dict['description'].append(get_description(new_soup))"
      ],
      "metadata": {
        "id": "OIZyFtwHEtMk"
      },
      "execution_count": 78,
      "outputs": []
    },
    {
      "cell_type": "code",
      "source": [
        "nike_df = pd.DataFrame.from_dict(contents_dict)\n",
        "nike_df['title'].replace('', np.nan, inplace=True)\n",
        "nike_df = nike_df.dropna(subset=['title'])\n",
        "nike_df"
      ],
      "metadata": {
        "colab": {
          "base_uri": "https://localhost:8080/",
          "height": 1079
        },
        "id": "cK97G-bDKB0X",
        "outputId": "191e1779-968c-41c7-9690-34f098867861"
      },
      "execution_count": 79,
      "outputs": [
        {
          "output_type": "execute_result",
          "data": {
            "text/plain": [
              "                               title              price  \\\n",
              "0               Nike Air Force 1 '07   MRP : ₹ 7 495.00   \n",
              "1        Nike Air Force 1 '07 EasyOn   MRP : ₹ 9 695.00   \n",
              "2           Nike Air Force 1 '07 LV8  MRP : ₹ 10 795.00   \n",
              "3               Nike Air Force 1 '07         ₹ 9 207.00   \n",
              "4           Nike Air Force 1 '07 LV8        ₹ 10 257.00   \n",
              "..                               ...                ...   \n",
              "66              Nike Air Force 1 '07         ₹ 9 207.00   \n",
              "67  Nike Air Force 1 '07 Next Nature        ₹ 10 257.00   \n",
              "69              Nike Air Force 1 '07        ₹ 10 257.00   \n",
              "70              Nike Air Force 1 '07         ₹ 8 195.00   \n",
              "71  Nike Air Force 1 '07 Next Nature         ₹ 9 695.00   \n",
              "\n",
              "                                          description  \n",
              "0   The radiance lives on in the Nike Air Force 1 ...  \n",
              "1   Quicker than 1, 2, 3—the original hoops shoe l...  \n",
              "2   Comfortable, durable and timeless—it's number ...  \n",
              "3   The radiance lives on in the Nike Air Force 1 ...  \n",
              "4   Comfortable, durable and timeless—it's number ...  \n",
              "..                                                ...  \n",
              "66  Comfortable, durable and timeless—it's number ...  \n",
              "67  Score major points in this legendary classic t...  \n",
              "69  Score major style points with this legendary h...  \n",
              "70  The radiance lives on in the Nike Air Force 1 ...  \n",
              "71  Comfortable, durable and timeless—it's number ...  \n",
              "\n",
              "[69 rows x 3 columns]"
            ],
            "text/html": [
              "\n",
              "  <div id=\"df-8afc8fa3-9dc2-493c-8c43-430967a9c357\" class=\"colab-df-container\">\n",
              "    <div>\n",
              "<style scoped>\n",
              "    .dataframe tbody tr th:only-of-type {\n",
              "        vertical-align: middle;\n",
              "    }\n",
              "\n",
              "    .dataframe tbody tr th {\n",
              "        vertical-align: top;\n",
              "    }\n",
              "\n",
              "    .dataframe thead th {\n",
              "        text-align: right;\n",
              "    }\n",
              "</style>\n",
              "<table border=\"1\" class=\"dataframe\">\n",
              "  <thead>\n",
              "    <tr style=\"text-align: right;\">\n",
              "      <th></th>\n",
              "      <th>title</th>\n",
              "      <th>price</th>\n",
              "      <th>description</th>\n",
              "    </tr>\n",
              "  </thead>\n",
              "  <tbody>\n",
              "    <tr>\n",
              "      <th>0</th>\n",
              "      <td>Nike Air Force 1 '07</td>\n",
              "      <td>MRP : ₹ 7 495.00</td>\n",
              "      <td>The radiance lives on in the Nike Air Force 1 ...</td>\n",
              "    </tr>\n",
              "    <tr>\n",
              "      <th>1</th>\n",
              "      <td>Nike Air Force 1 '07 EasyOn</td>\n",
              "      <td>MRP : ₹ 9 695.00</td>\n",
              "      <td>Quicker than 1, 2, 3—the original hoops shoe l...</td>\n",
              "    </tr>\n",
              "    <tr>\n",
              "      <th>2</th>\n",
              "      <td>Nike Air Force 1 '07 LV8</td>\n",
              "      <td>MRP : ₹ 10 795.00</td>\n",
              "      <td>Comfortable, durable and timeless—it's number ...</td>\n",
              "    </tr>\n",
              "    <tr>\n",
              "      <th>3</th>\n",
              "      <td>Nike Air Force 1 '07</td>\n",
              "      <td>₹ 9 207.00</td>\n",
              "      <td>The radiance lives on in the Nike Air Force 1 ...</td>\n",
              "    </tr>\n",
              "    <tr>\n",
              "      <th>4</th>\n",
              "      <td>Nike Air Force 1 '07 LV8</td>\n",
              "      <td>₹ 10 257.00</td>\n",
              "      <td>Comfortable, durable and timeless—it's number ...</td>\n",
              "    </tr>\n",
              "    <tr>\n",
              "      <th>...</th>\n",
              "      <td>...</td>\n",
              "      <td>...</td>\n",
              "      <td>...</td>\n",
              "    </tr>\n",
              "    <tr>\n",
              "      <th>66</th>\n",
              "      <td>Nike Air Force 1 '07</td>\n",
              "      <td>₹ 9 207.00</td>\n",
              "      <td>Comfortable, durable and timeless—it's number ...</td>\n",
              "    </tr>\n",
              "    <tr>\n",
              "      <th>67</th>\n",
              "      <td>Nike Air Force 1 '07 Next Nature</td>\n",
              "      <td>₹ 10 257.00</td>\n",
              "      <td>Score major points in this legendary classic t...</td>\n",
              "    </tr>\n",
              "    <tr>\n",
              "      <th>69</th>\n",
              "      <td>Nike Air Force 1 '07</td>\n",
              "      <td>₹ 10 257.00</td>\n",
              "      <td>Score major style points with this legendary h...</td>\n",
              "    </tr>\n",
              "    <tr>\n",
              "      <th>70</th>\n",
              "      <td>Nike Air Force 1 '07</td>\n",
              "      <td>₹ 8 195.00</td>\n",
              "      <td>The radiance lives on in the Nike Air Force 1 ...</td>\n",
              "    </tr>\n",
              "    <tr>\n",
              "      <th>71</th>\n",
              "      <td>Nike Air Force 1 '07 Next Nature</td>\n",
              "      <td>₹ 9 695.00</td>\n",
              "      <td>Comfortable, durable and timeless—it's number ...</td>\n",
              "    </tr>\n",
              "  </tbody>\n",
              "</table>\n",
              "<p>69 rows × 3 columns</p>\n",
              "</div>\n",
              "    <div class=\"colab-df-buttons\">\n",
              "\n",
              "  <div class=\"colab-df-container\">\n",
              "    <button class=\"colab-df-convert\" onclick=\"convertToInteractive('df-8afc8fa3-9dc2-493c-8c43-430967a9c357')\"\n",
              "            title=\"Convert this dataframe to an interactive table.\"\n",
              "            style=\"display:none;\">\n",
              "\n",
              "  <svg xmlns=\"http://www.w3.org/2000/svg\" height=\"24px\" viewBox=\"0 -960 960 960\">\n",
              "    <path d=\"M120-120v-720h720v720H120Zm60-500h600v-160H180v160Zm220 220h160v-160H400v160Zm0 220h160v-160H400v160ZM180-400h160v-160H180v160Zm440 0h160v-160H620v160ZM180-180h160v-160H180v160Zm440 0h160v-160H620v160Z\"/>\n",
              "  </svg>\n",
              "    </button>\n",
              "\n",
              "  <style>\n",
              "    .colab-df-container {\n",
              "      display:flex;\n",
              "      gap: 12px;\n",
              "    }\n",
              "\n",
              "    .colab-df-convert {\n",
              "      background-color: #E8F0FE;\n",
              "      border: none;\n",
              "      border-radius: 50%;\n",
              "      cursor: pointer;\n",
              "      display: none;\n",
              "      fill: #1967D2;\n",
              "      height: 32px;\n",
              "      padding: 0 0 0 0;\n",
              "      width: 32px;\n",
              "    }\n",
              "\n",
              "    .colab-df-convert:hover {\n",
              "      background-color: #E2EBFA;\n",
              "      box-shadow: 0px 1px 2px rgba(60, 64, 67, 0.3), 0px 1px 3px 1px rgba(60, 64, 67, 0.15);\n",
              "      fill: #174EA6;\n",
              "    }\n",
              "\n",
              "    .colab-df-buttons div {\n",
              "      margin-bottom: 4px;\n",
              "    }\n",
              "\n",
              "    [theme=dark] .colab-df-convert {\n",
              "      background-color: #3B4455;\n",
              "      fill: #D2E3FC;\n",
              "    }\n",
              "\n",
              "    [theme=dark] .colab-df-convert:hover {\n",
              "      background-color: #434B5C;\n",
              "      box-shadow: 0px 1px 3px 1px rgba(0, 0, 0, 0.15);\n",
              "      filter: drop-shadow(0px 1px 2px rgba(0, 0, 0, 0.3));\n",
              "      fill: #FFFFFF;\n",
              "    }\n",
              "  </style>\n",
              "\n",
              "    <script>\n",
              "      const buttonEl =\n",
              "        document.querySelector('#df-8afc8fa3-9dc2-493c-8c43-430967a9c357 button.colab-df-convert');\n",
              "      buttonEl.style.display =\n",
              "        google.colab.kernel.accessAllowed ? 'block' : 'none';\n",
              "\n",
              "      async function convertToInteractive(key) {\n",
              "        const element = document.querySelector('#df-8afc8fa3-9dc2-493c-8c43-430967a9c357');\n",
              "        const dataTable =\n",
              "          await google.colab.kernel.invokeFunction('convertToInteractive',\n",
              "                                                    [key], {});\n",
              "        if (!dataTable) return;\n",
              "\n",
              "        const docLinkHtml = 'Like what you see? Visit the ' +\n",
              "          '<a target=\"_blank\" href=https://colab.research.google.com/notebooks/data_table.ipynb>data table notebook</a>'\n",
              "          + ' to learn more about interactive tables.';\n",
              "        element.innerHTML = '';\n",
              "        dataTable['output_type'] = 'display_data';\n",
              "        await google.colab.output.renderOutput(dataTable, element);\n",
              "        const docLink = document.createElement('div');\n",
              "        docLink.innerHTML = docLinkHtml;\n",
              "        element.appendChild(docLink);\n",
              "      }\n",
              "    </script>\n",
              "  </div>\n",
              "\n",
              "\n",
              "<div id=\"df-0fb77234-15f5-4fb1-8886-1d93447dbf5d\">\n",
              "  <button class=\"colab-df-quickchart\" onclick=\"quickchart('df-0fb77234-15f5-4fb1-8886-1d93447dbf5d')\"\n",
              "            title=\"Suggest charts\"\n",
              "            style=\"display:none;\">\n",
              "\n",
              "<svg xmlns=\"http://www.w3.org/2000/svg\" height=\"24px\"viewBox=\"0 0 24 24\"\n",
              "     width=\"24px\">\n",
              "    <g>\n",
              "        <path d=\"M19 3H5c-1.1 0-2 .9-2 2v14c0 1.1.9 2 2 2h14c1.1 0 2-.9 2-2V5c0-1.1-.9-2-2-2zM9 17H7v-7h2v7zm4 0h-2V7h2v10zm4 0h-2v-4h2v4z\"/>\n",
              "    </g>\n",
              "</svg>\n",
              "  </button>\n",
              "\n",
              "<style>\n",
              "  .colab-df-quickchart {\n",
              "      --bg-color: #E8F0FE;\n",
              "      --fill-color: #1967D2;\n",
              "      --hover-bg-color: #E2EBFA;\n",
              "      --hover-fill-color: #174EA6;\n",
              "      --disabled-fill-color: #AAA;\n",
              "      --disabled-bg-color: #DDD;\n",
              "  }\n",
              "\n",
              "  [theme=dark] .colab-df-quickchart {\n",
              "      --bg-color: #3B4455;\n",
              "      --fill-color: #D2E3FC;\n",
              "      --hover-bg-color: #434B5C;\n",
              "      --hover-fill-color: #FFFFFF;\n",
              "      --disabled-bg-color: #3B4455;\n",
              "      --disabled-fill-color: #666;\n",
              "  }\n",
              "\n",
              "  .colab-df-quickchart {\n",
              "    background-color: var(--bg-color);\n",
              "    border: none;\n",
              "    border-radius: 50%;\n",
              "    cursor: pointer;\n",
              "    display: none;\n",
              "    fill: var(--fill-color);\n",
              "    height: 32px;\n",
              "    padding: 0;\n",
              "    width: 32px;\n",
              "  }\n",
              "\n",
              "  .colab-df-quickchart:hover {\n",
              "    background-color: var(--hover-bg-color);\n",
              "    box-shadow: 0 1px 2px rgba(60, 64, 67, 0.3), 0 1px 3px 1px rgba(60, 64, 67, 0.15);\n",
              "    fill: var(--button-hover-fill-color);\n",
              "  }\n",
              "\n",
              "  .colab-df-quickchart-complete:disabled,\n",
              "  .colab-df-quickchart-complete:disabled:hover {\n",
              "    background-color: var(--disabled-bg-color);\n",
              "    fill: var(--disabled-fill-color);\n",
              "    box-shadow: none;\n",
              "  }\n",
              "\n",
              "  .colab-df-spinner {\n",
              "    border: 2px solid var(--fill-color);\n",
              "    border-color: transparent;\n",
              "    border-bottom-color: var(--fill-color);\n",
              "    animation:\n",
              "      spin 1s steps(1) infinite;\n",
              "  }\n",
              "\n",
              "  @keyframes spin {\n",
              "    0% {\n",
              "      border-color: transparent;\n",
              "      border-bottom-color: var(--fill-color);\n",
              "      border-left-color: var(--fill-color);\n",
              "    }\n",
              "    20% {\n",
              "      border-color: transparent;\n",
              "      border-left-color: var(--fill-color);\n",
              "      border-top-color: var(--fill-color);\n",
              "    }\n",
              "    30% {\n",
              "      border-color: transparent;\n",
              "      border-left-color: var(--fill-color);\n",
              "      border-top-color: var(--fill-color);\n",
              "      border-right-color: var(--fill-color);\n",
              "    }\n",
              "    40% {\n",
              "      border-color: transparent;\n",
              "      border-right-color: var(--fill-color);\n",
              "      border-top-color: var(--fill-color);\n",
              "    }\n",
              "    60% {\n",
              "      border-color: transparent;\n",
              "      border-right-color: var(--fill-color);\n",
              "    }\n",
              "    80% {\n",
              "      border-color: transparent;\n",
              "      border-right-color: var(--fill-color);\n",
              "      border-bottom-color: var(--fill-color);\n",
              "    }\n",
              "    90% {\n",
              "      border-color: transparent;\n",
              "      border-bottom-color: var(--fill-color);\n",
              "    }\n",
              "  }\n",
              "</style>\n",
              "\n",
              "  <script>\n",
              "    async function quickchart(key) {\n",
              "      const quickchartButtonEl =\n",
              "        document.querySelector('#' + key + ' button');\n",
              "      quickchartButtonEl.disabled = true;  // To prevent multiple clicks.\n",
              "      quickchartButtonEl.classList.add('colab-df-spinner');\n",
              "      try {\n",
              "        const charts = await google.colab.kernel.invokeFunction(\n",
              "            'suggestCharts', [key], {});\n",
              "      } catch (error) {\n",
              "        console.error('Error during call to suggestCharts:', error);\n",
              "      }\n",
              "      quickchartButtonEl.classList.remove('colab-df-spinner');\n",
              "      quickchartButtonEl.classList.add('colab-df-quickchart-complete');\n",
              "    }\n",
              "    (() => {\n",
              "      let quickchartButtonEl =\n",
              "        document.querySelector('#df-0fb77234-15f5-4fb1-8886-1d93447dbf5d button');\n",
              "      quickchartButtonEl.style.display =\n",
              "        google.colab.kernel.accessAllowed ? 'block' : 'none';\n",
              "    })();\n",
              "  </script>\n",
              "</div>\n",
              "\n",
              "  <div id=\"id_a28accc1-14a0-4cbb-8382-8e05d994ae49\">\n",
              "    <style>\n",
              "      .colab-df-generate {\n",
              "        background-color: #E8F0FE;\n",
              "        border: none;\n",
              "        border-radius: 50%;\n",
              "        cursor: pointer;\n",
              "        display: none;\n",
              "        fill: #1967D2;\n",
              "        height: 32px;\n",
              "        padding: 0 0 0 0;\n",
              "        width: 32px;\n",
              "      }\n",
              "\n",
              "      .colab-df-generate:hover {\n",
              "        background-color: #E2EBFA;\n",
              "        box-shadow: 0px 1px 2px rgba(60, 64, 67, 0.3), 0px 1px 3px 1px rgba(60, 64, 67, 0.15);\n",
              "        fill: #174EA6;\n",
              "      }\n",
              "\n",
              "      [theme=dark] .colab-df-generate {\n",
              "        background-color: #3B4455;\n",
              "        fill: #D2E3FC;\n",
              "      }\n",
              "\n",
              "      [theme=dark] .colab-df-generate:hover {\n",
              "        background-color: #434B5C;\n",
              "        box-shadow: 0px 1px 3px 1px rgba(0, 0, 0, 0.15);\n",
              "        filter: drop-shadow(0px 1px 2px rgba(0, 0, 0, 0.3));\n",
              "        fill: #FFFFFF;\n",
              "      }\n",
              "    </style>\n",
              "    <button class=\"colab-df-generate\" onclick=\"generateWithVariable('nike_df')\"\n",
              "            title=\"Generate code using this dataframe.\"\n",
              "            style=\"display:none;\">\n",
              "\n",
              "  <svg xmlns=\"http://www.w3.org/2000/svg\" height=\"24px\"viewBox=\"0 0 24 24\"\n",
              "       width=\"24px\">\n",
              "    <path d=\"M7,19H8.4L18.45,9,17,7.55,7,17.6ZM5,21V16.75L18.45,3.32a2,2,0,0,1,2.83,0l1.4,1.43a1.91,1.91,0,0,1,.58,1.4,1.91,1.91,0,0,1-.58,1.4L9.25,21ZM18.45,9,17,7.55Zm-12,3A5.31,5.31,0,0,0,4.9,8.1,5.31,5.31,0,0,0,1,6.5,5.31,5.31,0,0,0,4.9,4.9,5.31,5.31,0,0,0,6.5,1,5.31,5.31,0,0,0,8.1,4.9,5.31,5.31,0,0,0,12,6.5,5.46,5.46,0,0,0,6.5,12Z\"/>\n",
              "  </svg>\n",
              "    </button>\n",
              "    <script>\n",
              "      (() => {\n",
              "      const buttonEl =\n",
              "        document.querySelector('#id_a28accc1-14a0-4cbb-8382-8e05d994ae49 button.colab-df-generate');\n",
              "      buttonEl.style.display =\n",
              "        google.colab.kernel.accessAllowed ? 'block' : 'none';\n",
              "\n",
              "      buttonEl.onclick = () => {\n",
              "        google.colab.notebook.generateWithVariable('nike_df');\n",
              "      }\n",
              "      })();\n",
              "    </script>\n",
              "  </div>\n",
              "\n",
              "    </div>\n",
              "  </div>\n"
            ],
            "application/vnd.google.colaboratory.intrinsic+json": {
              "type": "dataframe",
              "variable_name": "nike_df",
              "summary": "{\n  \"name\": \"nike_df\",\n  \"rows\": 69,\n  \"fields\": [\n    {\n      \"column\": \"title\",\n      \"properties\": {\n        \"dtype\": \"category\",\n        \"num_unique_values\": 11,\n        \"samples\": [\n          \"Nike Air Force 1 '07 Fresh\",\n          \"Nike Air Force 1 '07\",\n          \"Nike Air Force 1 Low Retro Premium\"\n        ],\n        \"semantic_type\": \"\",\n        \"description\": \"\"\n      }\n    },\n    {\n      \"column\": \"price\",\n      \"properties\": {\n        \"dtype\": \"category\",\n        \"num_unique_values\": 17,\n        \"samples\": [\n          \"MRP : \\u20b9 7 495.00\",\n          \"MRP : \\u20b9 9 695.00\",\n          \"MRP : \\u20b9 12 795.00\"\n        ],\n        \"semantic_type\": \"\",\n        \"description\": \"\"\n      }\n    },\n    {\n      \"column\": \"description\",\n      \"properties\": {\n        \"dtype\": \"category\",\n        \"num_unique_values\": 23,\n        \"samples\": [\n          \"Everything you love about the AF-1\\u2014but doubled! The Nike Air Force 1 Shadow puts a playful twist on a hoops icon to highlight the best of AF-1 DNA. Layered overlays in brightly coloured leather bring added depth, while double the branding and an exaggerated midsole help give these sneakers a bold look.\",\n          \"These AF-1s are going back to school and they just won \\\"Best Dressed\\\". Layers of canvas and synthetic leather create a vintage, varsity-inspired aesthetic. Don't forget to leave your mark: the sockliner graphics are inspired by school yearbooks\\u2014and we already signed it.\",\n          \"The radiance lives on in the Nike Air Force 1 '07, the basketball original that puts a fresh spin on what you know best: durably stitched overlays, clean finishes and the perfect amount of flash to make you shine.\"\n        ],\n        \"semantic_type\": \"\",\n        \"description\": \"\"\n      }\n    }\n  ]\n}"
            }
          },
          "metadata": {},
          "execution_count": 79
        }
      ]
    }
  ]
}